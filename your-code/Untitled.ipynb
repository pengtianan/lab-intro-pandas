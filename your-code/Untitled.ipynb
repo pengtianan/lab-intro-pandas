{
 "cells": [
  {
   "cell_type": "code",
   "execution_count": null,
   "metadata": {},
   "outputs": [],
   "source": [
    "import numpy as np\n",
    "import pandas as pd\n",
    "\n",
    "\n",
    "a=pd.Series(lst)\n",
    "print(a)\n",
    "\n",
    "a[2]\n",
    "\n",
    "df=pd.DataFrame(b)\n",
    "print(df)\n",
    "\n",
    "# price_df = pd.DataFrame(lst, columns=['SalePrice'])\n",
    "df=pd.DataFrame(b,columns =colnames)\n",
    "print(df)\n",
    "\n",
    "df2=df[[\"Score_1\",\"Score_3\",\"Score_5\"]]\n",
    "print(df2)\n",
    "\n",
    "d=df[\"Score_3\"].mean()\n",
    "print(d)\n",
    "\n",
    "e=df[\"Score_4\"].max()\n",
    "print(e)\n",
    "\n",
    "f=df[\"Score_2\"].median()\n",
    "print(f)\n",
    "\n",
    "df3=pd.DataFrame(orders)\n",
    "print(df3)\n",
    "\n",
    "tot_q=df3[\"Quantity\"].sum()\n",
    "print(tot_q)\n",
    "tot_rev=df3[\"Revenue\"].sum()\n",
    "print(tot_rev)\n",
    "\n",
    "exp=df3[\"UnitPrice\"].max()\n",
    "cheap=df3[\"UnitPrice\"].min()\n",
    "print(exp-cheap)"
   ]
  }
 ],
 "metadata": {
  "kernelspec": {
   "display_name": "Python 3",
   "language": "python",
   "name": "python3"
  },
  "language_info": {
   "codemirror_mode": {
    "name": "ipython",
    "version": 3
   },
   "file_extension": ".py",
   "mimetype": "text/x-python",
   "name": "python",
   "nbconvert_exporter": "python",
   "pygments_lexer": "ipython3",
   "version": "3.7.4"
  }
 },
 "nbformat": 4,
 "nbformat_minor": 2
}
